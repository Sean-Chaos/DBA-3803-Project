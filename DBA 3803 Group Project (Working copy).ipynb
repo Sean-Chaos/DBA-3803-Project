{
 "cells": [
  {
   "cell_type": "code",
   "execution_count": 1,
   "id": "6a29b48a",
   "metadata": {},
   "outputs": [],
   "source": [
    "import pandas as pd \n",
    "import numpy as np\n",
    "import seaborn as sns\n",
    "import matplotlib.pyplot as plt\n",
    "\n",
    "# sklean imports \n",
    "from sklearn.linear_model import *\n",
    "from sklearn.model_selection import train_test_split\n",
    "from sklearn.model_selection import cross_val_score\n",
    "from sklearn.model_selection import KFold \n",
    "from sklearn.preprocessing import StandardScaler\n",
    "from sklearn.pipeline import Pipeline\n",
    "\n",
    "from sklearn.metrics import *"
   ]
  },
  {
   "cell_type": "markdown",
   "id": "33c5f1d4",
   "metadata": {},
   "source": [
    "# Data import and cleaning "
   ]
  },
  {
   "cell_type": "code",
   "execution_count": 2,
   "id": "0c1ff854",
   "metadata": {},
   "outputs": [
    {
     "name": "stderr",
     "output_type": "stream",
     "text": [
      "C:\\Users\\seanl\\AppData\\Local\\Temp\\ipykernel_5344\\4267491402.py:2: DtypeWarning: Columns (0,1,2,3,4,5,6,7,8,9,10,11,12,13,14,15,16,17,18,19,20,21,22,23,24,25,26,27,28,29,30,31,32,33,34,35,36,37,38,39,40,41,42,43,44,45,46,47,48) have mixed types. Specify dtype option on import or set low_memory=False.\n",
      "  df_raw = pd.read_csv('48_Industry_Portfolios_Daily.csv', skiprows=range(0,9))\n"
     ]
    }
   ],
   "source": [
    "# Data import\n",
    "df_raw = pd.read_csv('48_Industry_Portfolios_Daily.csv', skiprows=range(0,9))\n",
    "df_raw.drop(axis=0, labels=range(25292,len(df_raw)), inplace=True)"
   ]
  },
  {
   "cell_type": "code",
   "execution_count": 3,
   "id": "ffba81f9",
   "metadata": {},
   "outputs": [
    {
     "data": {
      "text/html": [
       "<div>\n",
       "<style scoped>\n",
       "    .dataframe tbody tr th:only-of-type {\n",
       "        vertical-align: middle;\n",
       "    }\n",
       "\n",
       "    .dataframe tbody tr th {\n",
       "        vertical-align: top;\n",
       "    }\n",
       "\n",
       "    .dataframe thead th {\n",
       "        text-align: right;\n",
       "    }\n",
       "</style>\n",
       "<table border=\"1\" class=\"dataframe\">\n",
       "  <thead>\n",
       "    <tr style=\"text-align: right;\">\n",
       "      <th></th>\n",
       "      <th>Date</th>\n",
       "      <th>Agric</th>\n",
       "      <th>Food</th>\n",
       "      <th>Soda</th>\n",
       "      <th>Beer</th>\n",
       "      <th>Smoke</th>\n",
       "      <th>Toys</th>\n",
       "      <th>Fun</th>\n",
       "      <th>Books</th>\n",
       "      <th>Hshld</th>\n",
       "      <th>...</th>\n",
       "      <th>Boxes</th>\n",
       "      <th>Trans</th>\n",
       "      <th>Whlsl</th>\n",
       "      <th>Rtail</th>\n",
       "      <th>Meals</th>\n",
       "      <th>Banks</th>\n",
       "      <th>Insur</th>\n",
       "      <th>RlEst</th>\n",
       "      <th>Fin</th>\n",
       "      <th>Other</th>\n",
       "    </tr>\n",
       "  </thead>\n",
       "  <tbody>\n",
       "    <tr>\n",
       "      <th>0</th>\n",
       "      <td>1926-07-01</td>\n",
       "      <td>0.56</td>\n",
       "      <td>-0.07</td>\n",
       "      <td>-99.99</td>\n",
       "      <td>-1.39</td>\n",
       "      <td>0.00</td>\n",
       "      <td>-1.44</td>\n",
       "      <td>0.62</td>\n",
       "      <td>-1.27</td>\n",
       "      <td>-0.90</td>\n",
       "      <td>...</td>\n",
       "      <td>-0.93</td>\n",
       "      <td>0.14</td>\n",
       "      <td>2.77</td>\n",
       "      <td>-0.02</td>\n",
       "      <td>0.27</td>\n",
       "      <td>0.59</td>\n",
       "      <td>0.47</td>\n",
       "      <td>0.81</td>\n",
       "      <td>0.57</td>\n",
       "      <td>-1.66</td>\n",
       "    </tr>\n",
       "    <tr>\n",
       "      <th>1</th>\n",
       "      <td>1926-07-02</td>\n",
       "      <td>0.29</td>\n",
       "      <td>0.06</td>\n",
       "      <td>-99.99</td>\n",
       "      <td>0.78</td>\n",
       "      <td>0.70</td>\n",
       "      <td>1.46</td>\n",
       "      <td>0.03</td>\n",
       "      <td>0.00</td>\n",
       "      <td>-0.34</td>\n",
       "      <td>...</td>\n",
       "      <td>1.07</td>\n",
       "      <td>0.07</td>\n",
       "      <td>0.00</td>\n",
       "      <td>0.01</td>\n",
       "      <td>-0.10</td>\n",
       "      <td>1.04</td>\n",
       "      <td>-0.03</td>\n",
       "      <td>-0.61</td>\n",
       "      <td>-1.03</td>\n",
       "      <td>3.09</td>\n",
       "    </tr>\n",
       "    <tr>\n",
       "      <th>2</th>\n",
       "      <td>1926-07-06</td>\n",
       "      <td>-0.33</td>\n",
       "      <td>0.18</td>\n",
       "      <td>-99.99</td>\n",
       "      <td>-1.74</td>\n",
       "      <td>0.50</td>\n",
       "      <td>-0.96</td>\n",
       "      <td>-0.06</td>\n",
       "      <td>4.27</td>\n",
       "      <td>-1.20</td>\n",
       "      <td>...</td>\n",
       "      <td>0.73</td>\n",
       "      <td>-0.20</td>\n",
       "      <td>0.77</td>\n",
       "      <td>-0.22</td>\n",
       "      <td>-0.67</td>\n",
       "      <td>0.45</td>\n",
       "      <td>0.31</td>\n",
       "      <td>-0.72</td>\n",
       "      <td>0.62</td>\n",
       "      <td>1.41</td>\n",
       "    </tr>\n",
       "    <tr>\n",
       "      <th>3</th>\n",
       "      <td>1926-07-07</td>\n",
       "      <td>3.57</td>\n",
       "      <td>-0.15</td>\n",
       "      <td>-99.99</td>\n",
       "      <td>-1.73</td>\n",
       "      <td>-0.12</td>\n",
       "      <td>-0.49</td>\n",
       "      <td>-0.06</td>\n",
       "      <td>-4.10</td>\n",
       "      <td>-0.22</td>\n",
       "      <td>...</td>\n",
       "      <td>2.22</td>\n",
       "      <td>0.18</td>\n",
       "      <td>-3.21</td>\n",
       "      <td>-0.57</td>\n",
       "      <td>-1.08</td>\n",
       "      <td>-1.09</td>\n",
       "      <td>0.21</td>\n",
       "      <td>0.07</td>\n",
       "      <td>0.17</td>\n",
       "      <td>0.62</td>\n",
       "    </tr>\n",
       "    <tr>\n",
       "      <th>4</th>\n",
       "      <td>1926-07-08</td>\n",
       "      <td>0.30</td>\n",
       "      <td>1.12</td>\n",
       "      <td>-99.99</td>\n",
       "      <td>-0.15</td>\n",
       "      <td>0.30</td>\n",
       "      <td>-0.49</td>\n",
       "      <td>0.24</td>\n",
       "      <td>0.00</td>\n",
       "      <td>-0.01</td>\n",
       "      <td>...</td>\n",
       "      <td>-0.39</td>\n",
       "      <td>0.46</td>\n",
       "      <td>-1.10</td>\n",
       "      <td>-0.38</td>\n",
       "      <td>0.33</td>\n",
       "      <td>0.99</td>\n",
       "      <td>-0.88</td>\n",
       "      <td>-0.36</td>\n",
       "      <td>-1.10</td>\n",
       "      <td>0.98</td>\n",
       "    </tr>\n",
       "  </tbody>\n",
       "</table>\n",
       "<p>5 rows × 49 columns</p>\n",
       "</div>"
      ],
      "text/plain": [
       "        Date  Agric  Food   Soda  Beer  Smoke  Toys   Fun  Books  Hshld  ...  \\\n",
       "0 1926-07-01   0.56 -0.07 -99.99 -1.39   0.00 -1.44  0.62  -1.27  -0.90  ...   \n",
       "1 1926-07-02   0.29  0.06 -99.99  0.78   0.70  1.46  0.03   0.00  -0.34  ...   \n",
       "2 1926-07-06  -0.33  0.18 -99.99 -1.74   0.50 -0.96 -0.06   4.27  -1.20  ...   \n",
       "3 1926-07-07   3.57 -0.15 -99.99 -1.73  -0.12 -0.49 -0.06  -4.10  -0.22  ...   \n",
       "4 1926-07-08   0.30  1.12 -99.99 -0.15   0.30 -0.49  0.24   0.00  -0.01  ...   \n",
       "\n",
       "   Boxes  Trans  Whlsl  Rtail  Meals  Banks  Insur  RlEst   Fin  Other  \n",
       "0  -0.93   0.14   2.77  -0.02   0.27   0.59   0.47   0.81  0.57  -1.66  \n",
       "1   1.07   0.07   0.00   0.01  -0.10   1.04  -0.03  -0.61 -1.03   3.09  \n",
       "2   0.73  -0.20   0.77  -0.22  -0.67   0.45   0.31  -0.72  0.62   1.41  \n",
       "3   2.22   0.18  -3.21  -0.57  -1.08  -1.09   0.21   0.07  0.17   0.62  \n",
       "4  -0.39   0.46  -1.10  -0.38   0.33   0.99  -0.88  -0.36 -1.10   0.98  \n",
       "\n",
       "[5 rows x 49 columns]"
      ]
     },
     "execution_count": 3,
     "metadata": {},
     "output_type": "execute_result"
    }
   ],
   "source": [
    "# DAta cleaning \n",
    "df = df_raw.copy()\n",
    "df = df.apply(pd.to_numeric)\n",
    "df.rename(columns={'Unnamed: 0':'Date'}, inplace=True)\n",
    "\n",
    "tmp = df.columns\n",
    "tmp = list(tmp)\n",
    "\n",
    "# Column headers have random spaces, so i removed them \n",
    "out = []\n",
    "for i in tmp:\n",
    "    out.append(i.replace(' ', ''))\n",
    "\n",
    "df.columns = out\n",
    "\n",
    "# Changing date to actual date format \n",
    "df['Date'] = df['Date'].astype(str)\n",
    "df['Date'] = df['Date'].apply(lambda x: (x[:4] + '-' + x[4:6] + '-' + x[6:]))\n",
    "df['Date'] = pd.to_datetime(df['Date'])\n",
    "\n",
    "df.head()\n",
    "#df.info()"
   ]
  },
  {
   "cell_type": "code",
   "execution_count": null,
   "id": "c31d0e88",
   "metadata": {},
   "outputs": [],
   "source": []
  },
  {
   "cell_type": "markdown",
   "id": "5e4ccdc4",
   "metadata": {},
   "source": [
    "# Trying to get the correct min var portfolio "
   ]
  },
  {
   "cell_type": "code",
   "execution_count": 6,
   "id": "c4da6ec4",
   "metadata": {},
   "outputs": [
    {
     "data": {
      "text/plain": [
       "(63, 49)"
      ]
     },
     "execution_count": 6,
     "metadata": {},
     "output_type": "execute_result"
    }
   ],
   "source": [
    "# Selecting only the most recent 63 days \n",
    "date = '2022-01-03'\n",
    "no_obj = 63\n",
    "date_i = df[df['Date'] == date].index[0]\n",
    "\n",
    "temp = df.copy()\n",
    "temp = temp.iloc[date_i-63:date_i,:]\n",
    "temp.shape"
   ]
  },
  {
   "cell_type": "code",
   "execution_count": 7,
   "id": "54c60f95",
   "metadata": {},
   "outputs": [
    {
     "data": {
      "text/html": [
       "<div>\n",
       "<style scoped>\n",
       "    .dataframe tbody tr th:only-of-type {\n",
       "        vertical-align: middle;\n",
       "    }\n",
       "\n",
       "    .dataframe tbody tr th {\n",
       "        vertical-align: top;\n",
       "    }\n",
       "\n",
       "    .dataframe thead th {\n",
       "        text-align: right;\n",
       "    }\n",
       "</style>\n",
       "<table border=\"1\" class=\"dataframe\">\n",
       "  <thead>\n",
       "    <tr style=\"text-align: right;\">\n",
       "      <th></th>\n",
       "      <th>Agric</th>\n",
       "      <th>Food</th>\n",
       "      <th>Soda</th>\n",
       "      <th>Beer</th>\n",
       "      <th>Smoke</th>\n",
       "      <th>Toys</th>\n",
       "    </tr>\n",
       "  </thead>\n",
       "  <tbody>\n",
       "    <tr>\n",
       "      <th>25085</th>\n",
       "      <td>-2.01</td>\n",
       "      <td>0.10</td>\n",
       "      <td>-0.39</td>\n",
       "      <td>-0.35</td>\n",
       "      <td>0.57</td>\n",
       "      <td>-3.49</td>\n",
       "    </tr>\n",
       "    <tr>\n",
       "      <th>25086</th>\n",
       "      <td>1.91</td>\n",
       "      <td>0.75</td>\n",
       "      <td>0.51</td>\n",
       "      <td>0.36</td>\n",
       "      <td>-0.13</td>\n",
       "      <td>1.07</td>\n",
       "    </tr>\n",
       "    <tr>\n",
       "      <th>25087</th>\n",
       "      <td>-2.85</td>\n",
       "      <td>1.00</td>\n",
       "      <td>1.03</td>\n",
       "      <td>1.84</td>\n",
       "      <td>0.38</td>\n",
       "      <td>1.78</td>\n",
       "    </tr>\n",
       "    <tr>\n",
       "      <th>25088</th>\n",
       "      <td>1.04</td>\n",
       "      <td>-0.07</td>\n",
       "      <td>0.36</td>\n",
       "      <td>1.08</td>\n",
       "      <td>-0.63</td>\n",
       "      <td>2.05</td>\n",
       "    </tr>\n",
       "    <tr>\n",
       "      <th>25089</th>\n",
       "      <td>0.48</td>\n",
       "      <td>-0.48</td>\n",
       "      <td>0.09</td>\n",
       "      <td>-0.01</td>\n",
       "      <td>0.00</td>\n",
       "      <td>-1.04</td>\n",
       "    </tr>\n",
       "  </tbody>\n",
       "</table>\n",
       "</div>"
      ],
      "text/plain": [
       "       Agric  Food  Soda  Beer  Smoke  Toys\n",
       "25085  -2.01  0.10 -0.39 -0.35   0.57 -3.49\n",
       "25086   1.91  0.75  0.51  0.36  -0.13  1.07\n",
       "25087  -2.85  1.00  1.03  1.84   0.38  1.78\n",
       "25088   1.04 -0.07  0.36  1.08  -0.63  2.05\n",
       "25089   0.48 -0.48  0.09 -0.01   0.00 -1.04"
      ]
     },
     "execution_count": 7,
     "metadata": {},
     "output_type": "execute_result"
    }
   ],
   "source": [
    "# FOR TESTING \n",
    "temp = temp[['Agric', 'Food', 'Soda', 'Beer', 'Smoke', 'Toys']]\n",
    "temp.head()"
   ]
  },
  {
   "cell_type": "code",
   "execution_count": 8,
   "id": "e7847223",
   "metadata": {},
   "outputs": [],
   "source": [
    "# Use the first 63 as training data\n",
    "R_train = temp\n",
    "sc = StandardScaler(with_std = False)\n",
    "R_train[R_train.columns] = sc.fit_transform(R_train[R_train.columns])"
   ]
  },
  {
   "cell_type": "code",
   "execution_count": 9,
   "id": "c678b470",
   "metadata": {},
   "outputs": [
    {
     "data": {
      "text/plain": [
       "\"\\nprint('Equal weight portfolio: {}'.format(eq_w))\\nprint('\\n')\\nprint('y_train: {}'.format(y_train))\\n\""
      ]
     },
     "execution_count": 9,
     "metadata": {},
     "output_type": "execute_result"
    }
   ],
   "source": [
    "arr_len = 6\n",
    "\n",
    "# Getting y\n",
    "eq_w = np.full(\n",
    "    shape = arr_len,\n",
    "    fill_value = 1/arr_len\n",
    ")\n",
    "\n",
    "y_train = np.dot(R_train, eq_w)\n",
    "\n",
    "'''\n",
    "print('Equal weight portfolio: {}'.format(eq_w))\n",
    "print('\\n')\n",
    "print('y_train: {}'.format(y_train))\n",
    "'''"
   ]
  },
  {
   "cell_type": "code",
   "execution_count": 10,
   "id": "c154f9c0",
   "metadata": {},
   "outputs": [
    {
     "data": {
      "text/plain": [
       "\"\\nprint('N matrix: {}'.format(N))\\nprint('\\n')\\nprint('X_train: {}'.format(X_train))\\n\""
      ]
     },
     "execution_count": 10,
     "metadata": {},
     "output_type": "execute_result"
    }
   ],
   "source": [
    "# N matrix \n",
    "tmp1 = np.identity((arr_len-1), dtype='int64')\n",
    "tmp2 = -np.ones((arr_len-1), dtype='int64')\n",
    "N = np.append(tmp1,[tmp2], axis=0)\n",
    "\n",
    "# Calculate X\n",
    "X_train = np.dot(R_train, N)\n",
    "\n",
    "'''\n",
    "print('N matrix: {}'.format(N))\n",
    "print('\\n')\n",
    "print('X_train: {}'.format(X_train))\n",
    "'''"
   ]
  },
  {
   "cell_type": "code",
   "execution_count": 11,
   "id": "cb171c63",
   "metadata": {},
   "outputs": [
    {
     "name": "stdout",
     "output_type": "stream",
     "text": [
      "train_r2: 0.22247593212981887\n",
      "train_mse: 0.46020583341227367\n",
      "\n",
      "\n",
      "beta: [ 0.16927953  0.16834143  0.11724264 -0.34557298 -0.14832212]\n",
      "w            : [-0.003, -0.002, 0.049, 0.512, 0.315, 0.128]\n",
      "Actual values: [-0.002, -0.004, 0.049, 0.514, 0.316, 0.0128]\n"
     ]
    },
    {
     "data": {
      "text/plain": [
       "'\\nprint(test_r2)\\nprint(test_mse)\\n'"
      ]
     },
     "execution_count": 11,
     "metadata": {},
     "output_type": "execute_result"
    }
   ],
   "source": [
    "# Linear regression to get min var portfolio\n",
    "reg = LinearRegression(fit_intercept = False)\n",
    "reg.fit(X_train, y_train)\n",
    "\n",
    "train_r2 = reg.score(X_train, y_train)\n",
    "train_mse = mean_squared_error(y_train, reg.predict(X_train))\n",
    "\n",
    "beta = reg.coef_\n",
    "w = eq_w - np.dot(N,beta)\n",
    "\n",
    "'''\n",
    "test_r2 = reg.score(X_test, y_test)\n",
    "test_mse = mean_squared_error(y_test, ridge.predict(X_test))\n",
    "'''\n",
    "\n",
    "\n",
    "\n",
    "print(f'train_r2: {train_r2}')\n",
    "print(f'train_mse: {train_mse}')\n",
    "print('\\n')\n",
    "\n",
    "print(f'beta: {beta}')\n",
    "print(f'w            : {[round(num, 3) for num in w]}')\n",
    "print(f'Actual values: {str([-.002, -.004, .049, .514, .316, .0128])}')\n",
    "\n",
    "'''\n",
    "print(test_r2)\n",
    "print(test_mse)\n",
    "'''"
   ]
  },
  {
   "cell_type": "code",
   "execution_count": null,
   "id": "945ea645",
   "metadata": {},
   "outputs": [],
   "source": []
  },
  {
   "cell_type": "markdown",
   "id": "5f0f39b7",
   "metadata": {},
   "source": [
    "# Relationship between -log(alpha) and MSE"
   ]
  },
  {
   "cell_type": "code",
   "execution_count": 52,
   "id": "e656f978",
   "metadata": {},
   "outputs": [
    {
     "data": {
      "text/html": [
       "<div>\n",
       "<style scoped>\n",
       "    .dataframe tbody tr th:only-of-type {\n",
       "        vertical-align: middle;\n",
       "    }\n",
       "\n",
       "    .dataframe tbody tr th {\n",
       "        vertical-align: top;\n",
       "    }\n",
       "\n",
       "    .dataframe thead th {\n",
       "        text-align: right;\n",
       "    }\n",
       "</style>\n",
       "<table border=\"1\" class=\"dataframe\">\n",
       "  <thead>\n",
       "    <tr style=\"text-align: right;\">\n",
       "      <th></th>\n",
       "      <th>Trans</th>\n",
       "      <th>Hshld</th>\n",
       "      <th>Guns</th>\n",
       "      <th>LabEq</th>\n",
       "      <th>Fin</th>\n",
       "      <th>Hlth</th>\n",
       "    </tr>\n",
       "  </thead>\n",
       "  <tbody>\n",
       "    <tr>\n",
       "      <th>0</th>\n",
       "      <td>0.14</td>\n",
       "      <td>-0.90</td>\n",
       "      <td>-99.99</td>\n",
       "      <td>0.00</td>\n",
       "      <td>0.57</td>\n",
       "      <td>-99.99</td>\n",
       "    </tr>\n",
       "    <tr>\n",
       "      <th>1</th>\n",
       "      <td>0.07</td>\n",
       "      <td>-0.34</td>\n",
       "      <td>-99.99</td>\n",
       "      <td>1.80</td>\n",
       "      <td>-1.03</td>\n",
       "      <td>-99.99</td>\n",
       "    </tr>\n",
       "    <tr>\n",
       "      <th>2</th>\n",
       "      <td>-0.20</td>\n",
       "      <td>-1.20</td>\n",
       "      <td>-99.99</td>\n",
       "      <td>0.66</td>\n",
       "      <td>0.62</td>\n",
       "      <td>-99.99</td>\n",
       "    </tr>\n",
       "    <tr>\n",
       "      <th>3</th>\n",
       "      <td>0.18</td>\n",
       "      <td>-0.22</td>\n",
       "      <td>-99.99</td>\n",
       "      <td>-0.66</td>\n",
       "      <td>0.17</td>\n",
       "      <td>-99.99</td>\n",
       "    </tr>\n",
       "    <tr>\n",
       "      <th>4</th>\n",
       "      <td>0.46</td>\n",
       "      <td>-0.01</td>\n",
       "      <td>-99.99</td>\n",
       "      <td>0.33</td>\n",
       "      <td>-1.10</td>\n",
       "      <td>-99.99</td>\n",
       "    </tr>\n",
       "    <tr>\n",
       "      <th>...</th>\n",
       "      <td>...</td>\n",
       "      <td>...</td>\n",
       "      <td>...</td>\n",
       "      <td>...</td>\n",
       "      <td>...</td>\n",
       "      <td>...</td>\n",
       "    </tr>\n",
       "    <tr>\n",
       "      <th>25287</th>\n",
       "      <td>0.60</td>\n",
       "      <td>0.28</td>\n",
       "      <td>1.09</td>\n",
       "      <td>0.24</td>\n",
       "      <td>0.31</td>\n",
       "      <td>-0.13</td>\n",
       "    </tr>\n",
       "    <tr>\n",
       "      <th>25288</th>\n",
       "      <td>-1.76</td>\n",
       "      <td>-0.49</td>\n",
       "      <td>-0.88</td>\n",
       "      <td>0.46</td>\n",
       "      <td>-1.79</td>\n",
       "      <td>0.81</td>\n",
       "    </tr>\n",
       "    <tr>\n",
       "      <th>25289</th>\n",
       "      <td>1.78</td>\n",
       "      <td>1.27</td>\n",
       "      <td>0.87</td>\n",
       "      <td>2.05</td>\n",
       "      <td>1.88</td>\n",
       "      <td>0.80</td>\n",
       "    </tr>\n",
       "    <tr>\n",
       "      <th>25290</th>\n",
       "      <td>1.81</td>\n",
       "      <td>1.78</td>\n",
       "      <td>2.04</td>\n",
       "      <td>2.77</td>\n",
       "      <td>3.13</td>\n",
       "      <td>0.20</td>\n",
       "    </tr>\n",
       "    <tr>\n",
       "      <th>25291</th>\n",
       "      <td>1.98</td>\n",
       "      <td>-3.64</td>\n",
       "      <td>1.84</td>\n",
       "      <td>0.95</td>\n",
       "      <td>1.22</td>\n",
       "      <td>0.63</td>\n",
       "    </tr>\n",
       "  </tbody>\n",
       "</table>\n",
       "<p>25292 rows × 6 columns</p>\n",
       "</div>"
      ],
      "text/plain": [
       "       Trans  Hshld   Guns  LabEq   Fin   Hlth\n",
       "0       0.14  -0.90 -99.99   0.00  0.57 -99.99\n",
       "1       0.07  -0.34 -99.99   1.80 -1.03 -99.99\n",
       "2      -0.20  -1.20 -99.99   0.66  0.62 -99.99\n",
       "3       0.18  -0.22 -99.99  -0.66  0.17 -99.99\n",
       "4       0.46  -0.01 -99.99   0.33 -1.10 -99.99\n",
       "...      ...    ...    ...    ...   ...    ...\n",
       "25287   0.60   0.28   1.09   0.24  0.31  -0.13\n",
       "25288  -1.76  -0.49  -0.88   0.46 -1.79   0.81\n",
       "25289   1.78   1.27   0.87   2.05  1.88   0.80\n",
       "25290   1.81   1.78   2.04   2.77  3.13   0.20\n",
       "25291   1.98  -3.64   1.84   0.95  1.22   0.63\n",
       "\n",
       "[25292 rows x 6 columns]"
      ]
     },
     "execution_count": 52,
     "metadata": {},
     "output_type": "execute_result"
    }
   ],
   "source": [
    "# Selecting the columns \n",
    "q1 = df.copy()\n",
    "q1 = q1[['Trans', 'Hshld', 'Guns', 'LabEq', 'Fin', 'Hlth']]\n",
    "q1"
   ]
  },
  {
   "cell_type": "code",
   "execution_count": 53,
   "id": "b3adba1d",
   "metadata": {},
   "outputs": [
    {
     "name": "stderr",
     "output_type": "stream",
     "text": [
      "C:\\Users\\seanl\\AppData\\Local\\Temp\\ipykernel_5344\\3357644515.py:9: SettingWithCopyWarning: \n",
      "A value is trying to be set on a copy of a slice from a DataFrame.\n",
      "Try using .loc[row_indexer,col_indexer] = value instead\n",
      "\n",
      "See the caveats in the documentation: https://pandas.pydata.org/pandas-docs/stable/user_guide/indexing.html#returning-a-view-versus-a-copy\n",
      "  R_train[R_train.columns] = sc.fit_transform(R_train[R_train.columns])\n"
     ]
    },
    {
     "data": {
      "text/plain": [
       "(63, 6)"
      ]
     },
     "execution_count": 53,
     "metadata": {},
     "output_type": "execute_result"
    }
   ],
   "source": [
    "# Selecting training set\n",
    "date = '2022-01-03'\n",
    "no_obj = 63\n",
    "date_i = df[df['Date'] == date].index[0]\n",
    "\n",
    "R_train = q1.iloc[date_i-63:date_i,:]\n",
    "\n",
    "sc = StandardScaler(with_std = False)\n",
    "R_train[R_train.columns] = sc.fit_transform(R_train[R_train.columns])\n",
    "\n",
    "R_train.shape"
   ]
  },
  {
   "cell_type": "code",
   "execution_count": 54,
   "id": "153fbf08",
   "metadata": {
    "scrolled": true
   },
   "outputs": [
    {
     "name": "stderr",
     "output_type": "stream",
     "text": [
      "C:\\Users\\seanl\\AppData\\Local\\Temp\\ipykernel_5344\\38191106.py:9: SettingWithCopyWarning: \n",
      "A value is trying to be set on a copy of a slice from a DataFrame.\n",
      "Try using .loc[row_indexer,col_indexer] = value instead\n",
      "\n",
      "See the caveats in the documentation: https://pandas.pydata.org/pandas-docs/stable/user_guide/indexing.html#returning-a-view-versus-a-copy\n",
      "  R_test[R_test.columns] = sc.fit_transform(R_test[R_test.columns])\n"
     ]
    },
    {
     "data": {
      "text/plain": [
       "(27, 6)"
      ]
     },
     "execution_count": 54,
     "metadata": {},
     "output_type": "execute_result"
    }
   ],
   "source": [
    "# Selecting the test set (dates after the 1 day in 2022)\n",
    "date = '2022-01-03'\n",
    "no_obj = int(63 / .7 * .3)\n",
    "date_i = df[df['Date'] == date].index[0]\n",
    "\n",
    "R_test = q1.iloc[date_i:date_i+no_obj,:]\n",
    "\n",
    "sc = StandardScaler(with_std = False)\n",
    "R_test[R_test.columns] = sc.fit_transform(R_test[R_test.columns])\n",
    "\n",
    "R_test.shape"
   ]
  },
  {
   "cell_type": "markdown",
   "id": "549ec2ff",
   "metadata": {},
   "source": [
    "### Ridge"
   ]
  },
  {
   "cell_type": "code",
   "execution_count": 55,
   "id": "beb155fd",
   "metadata": {},
   "outputs": [
    {
     "data": {
      "text/plain": [
       "\"\\nprint('y_train: {}'.format(y_train))\\nprint('y_test: {}'.format(y_test))\\nprint('\\n')\\nprint('X_train: {}'.format(X_train))\\nprint('X_test: {}'.format(X_test))\\n\""
      ]
     },
     "execution_count": 55,
     "metadata": {},
     "output_type": "execute_result"
    }
   ],
   "source": [
    "arr_len = 6\n",
    "\n",
    "# y values\n",
    "eq_w = np.full(\n",
    "    shape = arr_len,\n",
    "    fill_value = 1/arr_len\n",
    ")\n",
    "\n",
    "y_train = np.dot(R_train, eq_w)\n",
    "y_test = np.dot(R_test, eq_w)\n",
    "\n",
    "\n",
    "# X values\n",
    "tmp1 = np.identity((arr_len-1), dtype='int64')\n",
    "tmp2 = -np.ones((arr_len-1), dtype='int64')\n",
    "N = np.append(tmp1,[tmp2], axis=0)\n",
    "\n",
    "X_train = np.dot(R_train, N)\n",
    "X_test = np.dot(R_test, N)\n",
    "\n",
    "'''\n",
    "print('y_train: {}'.format(y_train))\n",
    "print('y_test: {}'.format(y_test))\n",
    "print('\\n')\n",
    "print('X_train: {}'.format(X_train))\n",
    "print('X_test: {}'.format(X_test))\n",
    "'''"
   ]
  },
  {
   "cell_type": "code",
   "execution_count": 56,
   "id": "12655f5a",
   "metadata": {},
   "outputs": [],
   "source": [
    "alpha_vec = np.logspace(-8,3,100)\n",
    "\n",
    "# results list \n",
    "train_r2 = []\n",
    "train_mse = []\n",
    "coeff_dict = {}\n",
    "\n",
    "test_r2 = []\n",
    "test_mse = []\n",
    "\n",
    "for cur_alpha in alpha_vec:\n",
    "    ridge = Ridge(cur_alpha)\n",
    "    ridge.fit(X_train, y_train)\n",
    "    \n",
    "    # Training\n",
    "    train_r2.append(ridge.score(X_train, y_train))\n",
    "    train_mse.append(mean_squared_error(y_train, ridge.predict(X_train)))\n",
    "    coeff_dict[cur_alpha] = ridge.coef_\n",
    "    \n",
    "    # Test \n",
    "    test_r2.append(ridge.score(X_test, y_test))\n",
    "    test_mse.append(mean_squared_error(y_test, ridge.predict(X_test)))\n",
    "    \n"
   ]
  },
  {
   "cell_type": "code",
   "execution_count": 57,
   "id": "c4971577",
   "metadata": {},
   "outputs": [
    {
     "data": {
      "image/png": "[encoded data removed]",
      "text/plain": [
       "<Figure size 1152x720 with 2 Axes>"
      ]
     },
     "metadata": {
      "needs_background": "light"
     },
     "output_type": "display_data"
    }
   ],
   "source": [
    "# r2 and mse plots for training \n",
    "fig, axs = plt.subplots(nrows=2, figsize=(16,10))\n",
    "sns.lineplot(x=alpha_vec, y=np.array(train_r2), ax=axs[0])\n",
    "axs[0].set(xlabel='-log(alpha)', ylabel='Unadjusted R^2')\n",
    "\n",
    "sns.lineplot(x=alpha_vec, y=np.array(train_mse), ax=axs[1])\n",
    "axs[1].set(xlabel='-log(alpha)', ylabel='MSE')\n",
    "\n",
    "fig.suptitle('Ridge Regression', fontsize = 24)\n",
    "\n",
    "plt.show()"
   ]
  },
  {
   "cell_type": "code",
   "execution_count": 58,
   "id": "bb3056f0",
   "metadata": {
    "scrolled": true
   },
   "outputs": [
    {
     "data": {
      "image/png": "[encoded data removed]",
      "text/plain": [
       "<Figure size 1152x432 with 1 Axes>"
      ]
     },
     "metadata": {
      "needs_background": "light"
     },
     "output_type": "display_data"
    }
   ],
   "source": [
    "# mse plots for training vs test \n",
    "plt.figure(figsize=(16,6))\n",
    "fig1 = sns.lineplot(x=alpha_vec, y=np.array(train_mse))\n",
    "fig1 = sns.lineplot(x=alpha_vec, y=np.array(test_mse))\n",
    "fig1.set(xlabel='-log(alpha)', ylabel='MSE')\n",
    "plt.title('MSE train vs test', fontsize = 24)\n",
    "\n",
    "plt.show()"
   ]
  },
  {
   "cell_type": "code",
   "execution_count": null,
   "id": "77d07c25",
   "metadata": {},
   "outputs": [],
   "source": []
  },
  {
   "cell_type": "markdown",
   "id": "76643b47",
   "metadata": {},
   "source": [
    "### Lasso"
   ]
  },
  {
   "cell_type": "code",
   "execution_count": 79,
   "id": "3a7286d2",
   "metadata": {},
   "outputs": [],
   "source": [
    "alpha_vec = np.logspace(-8,0,100)\n",
    "\n",
    "# results list \n",
    "train_r2 = []\n",
    "train_mse = []\n",
    "coeff_dict = {}\n",
    "\n",
    "test_r2 = []\n",
    "test_mse = []\n",
    "\n",
    "\n",
    "# iterate over all alphas in range\n",
    "for cur_alpha in alpha_vec:\n",
    "    lasso = Lasso(cur_alpha, max_iter=10000)\n",
    "    lasso.fit(X_train, y_train)\n",
    "    \n",
    "    # Training\n",
    "    train_r2.append(lasso.score(X_train, y_train))\n",
    "    train_mse.append(mean_squared_error(y_train, lasso.predict(X_train)))\n",
    "    coeff_dict[cur_alpha] = ridge.coef_\n",
    "    \n",
    "    # Test \n",
    "    test_r2.append(lasso.score(X_test, y_test))\n",
    "    test_mse.append(mean_squared_error(y_test, lasso.predict(X_test)))"
   ]
  },
  {
   "cell_type": "code",
   "execution_count": 80,
   "id": "7e12b7f3",
   "metadata": {},
   "outputs": [
    {
     "data": {
      "image/png": "[encoded data removed]",
      "text/plain": [
       "<Figure size 1152x720 with 2 Axes>"
      ]
     },
     "metadata": {
      "needs_background": "light"
     },
     "output_type": "display_data"
    }
   ],
   "source": [
    "# r2 and mse plots for training \n",
    "fig, axs = plt.subplots(nrows=2, figsize=(16,10))\n",
    "sns.lineplot(x=alpha_vec, y=np.array(train_r2), ax=axs[0])\n",
    "axs[0].set(xlabel='-log(alpha)', ylabel='Unadjusted R^2')\n",
    "\n",
    "sns.lineplot(x=alpha_vec, y=np.array(train_mse), ax=axs[1])\n",
    "axs[1].set(xlabel='-log(alpha)', ylabel='MSE')\n",
    "\n",
    "fig.suptitle('Lasso Regression', fontsize = 24)\n",
    "\n",
    "plt.show()"
   ]
  },
  {
   "cell_type": "code",
   "execution_count": 81,
   "id": "46a244d5",
   "metadata": {},
   "outputs": [
    {
     "data": {
      "image/png": "[encoded data removed]",
      "text/plain": [
       "<Figure size 1152x432 with 1 Axes>"
      ]
     },
     "metadata": {
      "needs_background": "light"
     },
     "output_type": "display_data"
    }
   ],
   "source": [
    "# mse plots for training vs test \n",
    "plt.figure(figsize=(16,6))\n",
    "fig1 = sns.lineplot(x=alpha_vec, y=np.array(train_mse))\n",
    "fig1 = sns.lineplot(x=alpha_vec, y=np.array(test_mse))\n",
    "fig1.set(xlabel='-log(alpha)', ylabel='MSE')\n",
    "plt.title('MSE train vs test', fontsize = 24)\n",
    "\n",
    "plt.show()"
   ]
  },
  {
   "cell_type": "code",
   "execution_count": null,
   "id": "81cf365d",
   "metadata": {},
   "outputs": [],
   "source": []
  },
  {
   "cell_type": "markdown",
   "id": "eba1c502",
   "metadata": {},
   "source": [
    "# Cross Validation (I havent done the demean!)"
   ]
  },
  {
   "cell_type": "markdown",
   "id": "7d4af582",
   "metadata": {},
   "source": [
    "### Ridge"
   ]
  },
  {
   "cell_type": "code",
   "execution_count": 91,
   "id": "90ae141f",
   "metadata": {},
   "outputs": [
    {
     "data": {
      "image/png": "[encoded data removed]",
      "text/plain": [
       "<Figure size 1152x432 with 1 Axes>"
      ]
     },
     "metadata": {
      "needs_background": "light"
     },
     "output_type": "display_data"
    },
    {
     "name": "stdout",
     "output_type": "stream",
     "text": [
      "ridge alpha: 215.44346900318777\n",
      "Test set MSE: 0.7252818493102308\n",
      "Test set Rsq: 0.2247586866565474\n"
     ]
    }
   ],
   "source": [
    "alpha_vec = np.logspace(-8,3,100)\n",
    "\n",
    "cvResults = []\n",
    "\n",
    "# iterate over all alphas in range\n",
    "for cur_alpha in alpha_vec:\n",
    "    clf_cv = Ridge(cur_alpha)\n",
    "    \n",
    "    # Perform 10-fold cross validation \n",
    "    scores = cross_val_score(estimator = clf_cv, X = X_train, y = y_train, cv = 10, \\\n",
    "                             scoring = 'neg_mean_squared_error', n_jobs = 4)\n",
    "    \n",
    "    cvResults.append(scores.mean())\n",
    "\n",
    "# Graph\n",
    "plt.figure(figsize=(16,6))\n",
    "fig2 = sns.lineplot(y = cvResults, x = alpha_vec, label = \"Train Score\")\n",
    "plt.title('Training Score(Ridge)', fontsize = 24)\n",
    "fig2.set(xlabel='-log(alpha)', ylabel='Train Score')\n",
    "plt.show()\n",
    "\n",
    "\n",
    "# Stats\n",
    "ridgecv = RidgeCV(alphas = alpha_vec, scoring = 'neg_mean_squared_error')\n",
    "ridgecv.fit(X_train, y_train)\n",
    "ridge_best_alpha = ridgecv.alpha_\n",
    "print('ridge alpha: {}'.format(ridgecv.alpha_))\n",
    "\n",
    "# refit on full dataset with optimized parameter\n",
    "opt_ridge = Ridge(alpha = ridgecv.alpha_)\n",
    "opt_ridge.fit(X_train, y_train)\n",
    "\n",
    "# assess on test set\n",
    "print('Test set MSE: {}'.format(mean_squared_error(y_test, opt_ridge.predict(X_test))))\n",
    "print('Test set Rsq: {}'.format(r2_score(y_test, opt_ridge.predict(X_test))))"
   ]
  },
  {
   "cell_type": "markdown",
   "id": "7c4b13b9",
   "metadata": {},
   "source": [
    "### Lasso"
   ]
  },
  {
   "cell_type": "code",
   "execution_count": 97,
   "id": "fa353353",
   "metadata": {},
   "outputs": [
    {
     "data": {
      "image/png": "[encoded data removed]",
      "text/plain": [
       "<Figure size 1152x432 with 1 Axes>"
      ]
     },
     "metadata": {
      "needs_background": "light"
     },
     "output_type": "display_data"
    },
    {
     "name": "stdout",
     "output_type": "stream",
     "text": [
      "alpha: 1.0\n",
      "Test set MSE: 0.9355562414266118\n",
      "Test set Rsq: 0.0\n"
     ]
    }
   ],
   "source": [
    "alpha_vec = np.logspace(-8,0,100)\n",
    "\n",
    "cvResults = []\n",
    "\n",
    "for cur_alpha in alpha_vec:\n",
    "    clf_cv = Lasso(cur_alpha)\n",
    "    \n",
    "    # Perform 10-fold cross validation \n",
    "    scores = cross_val_score(estimator = clf_cv, X = X_train, y = y_train, cv = 10, \\\n",
    "                             scoring = 'neg_mean_squared_error', n_jobs = 4)\n",
    "    \n",
    "    # Attach results\n",
    "    cvResults.append(scores.mean())\n",
    "\n",
    "# Graph\n",
    "plt.figure(figsize=(16,6))\n",
    "fig2 = sns.lineplot(y = cvResults, x = alpha_vec, label = \"Train Score\")\n",
    "plt.title('Training Score(Lasso)', fontsize = 24)\n",
    "fig2.set(xlabel='-log(alpha)', ylabel='Train Score')\n",
    "plt.show()\n",
    "\n",
    "\n",
    "# Stats\n",
    "lassocv = LassoCV(alphas = alpha_vec, max_iter=10000)\n",
    "lassocv.fit(X_train, y_train)\n",
    "lasso_best_alpha = lassocv.alpha_\n",
    "print(f'alpha: {lassocv.alpha_}')\n",
    "\n",
    "# refit on full dataset with optimized parameter\n",
    "opt_lasso = Lasso(alpha = lassocv.alpha_)\n",
    "opt_lasso.fit(X_train, y_train)\n",
    "\n",
    "# assess on test set\n",
    "print(f'Test set MSE: {mean_squared_error(y_test, opt_lasso.predict(X_test))}')\n",
    "print(f'Test set Rsq: {r2_score(y_test, opt_lasso.predict(X_test))}')"
   ]
  },
  {
   "cell_type": "code",
   "execution_count": null,
   "id": "942697e1",
   "metadata": {},
   "outputs": [],
   "source": []
  },
  {
   "cell_type": "code",
   "execution_count": null,
   "id": "4b2f5f09",
   "metadata": {},
   "outputs": [],
   "source": []
  },
  {
   "cell_type": "code",
   "execution_count": null,
   "id": "f00b1c60",
   "metadata": {},
   "outputs": [],
   "source": []
  },
  {
   "cell_type": "code",
   "execution_count": null,
   "id": "86bbe869",
   "metadata": {},
   "outputs": [],
   "source": []
  }
 ],
 "metadata": {
  "kernelspec": {
   "display_name": "Python 3 (ipykernel)",
   "language": "python",
   "name": "python3"
  },
  "language_info": {
   "codemirror_mode": {
    "name": "ipython",
    "version": 3
   },
   "file_extension": ".py",
   "mimetype": "text/x-python",
   "name": "python",
   "nbconvert_exporter": "python",
   "pygments_lexer": "ipython3",
   "version": "3.9.12"
  }
 },
 "nbformat": 4,
 "nbformat_minor": 5
}
